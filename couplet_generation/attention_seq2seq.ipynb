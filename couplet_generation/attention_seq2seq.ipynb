{
 "cells": [
  {
   "cell_type": "code",
   "execution_count": 3,
   "metadata": {},
   "outputs": [
    {
     "data": {
      "text/plain": [
       "'1.3.0'"
      ]
     },
     "execution_count": 3,
     "metadata": {},
     "output_type": "execute_result"
    }
   ],
   "source": [
    "from collections import Counter\n",
    "import numpy as np\n",
    "import torch\n",
    "import torch.nn as nn\n",
    "import torch.optim as optim\n",
    "from torch.utils.data import Dataset, DataLoader\n",
    "\n",
    "np.random.seed(100)\n",
    "torch.manual_seed(100)\n",
    "\n",
    "device = torch.device('cuda' if torch.cuda.is_available() else 'cpu')\n",
    "torch.__version__"
   ]
  },
  {
   "cell_type": "code",
   "execution_count": 4,
   "metadata": {},
   "outputs": [],
   "source": [
    "raw_data = 'data/all_couplets.txt'\n",
    "vocab_size = 2000"
   ]
  },
  {
   "cell_type": "markdown",
   "metadata": {},
   "source": [
    "### 划分数据集"
   ]
  },
  {
   "cell_type": "code",
   "execution_count": 5,
   "metadata": {},
   "outputs": [],
   "source": [
    "def split_dataset(raw_data, test_size=3000):\n",
    "    with open(raw_data, 'r') as f:\n",
    "        lines = f.readlines()\n",
    "        \n",
    "    lines = list(map(str.strip, lines))\n",
    "    \n",
    "    np.random.shuffle(lines)\n",
    "    \n",
    "    train_lines = lines[test_size:]\n",
    "    test_lines = lines[:test_size]\n",
    "        \n",
    "    return train_lines, test_lines"
   ]
  },
  {
   "cell_type": "code",
   "execution_count": 6,
   "metadata": {},
   "outputs": [
    {
     "data": {
      "text/plain": [
       "(771491, 3000)"
      ]
     },
     "execution_count": 6,
     "metadata": {},
     "output_type": "execute_result"
    }
   ],
   "source": [
    "train_lines, test_lines = split_dataset(raw_data, test_size=3000)\n",
    "len(train_lines), len(test_lines)"
   ]
  },
  {
   "cell_type": "markdown",
   "metadata": {},
   "source": [
    "### 获取字符表"
   ]
  },
  {
   "cell_type": "code",
   "execution_count": 7,
   "metadata": {},
   "outputs": [],
   "source": [
    "def create_vocab(train_lines, size=-1):\n",
    "    counter = Counter(''.join(train_lines))\n",
    "    vocab = sorted(counter, key=lambda c: counter[c], reverse=True)\n",
    "    \n",
    "    if size != -1:\n",
    "        vocab = vocab[:size]\n",
    "    \n",
    "    print(f\"last character: {vocab[-1]}, frequency: {counter[vocab[-1]]}\")\n",
    "        \n",
    "    return vocab"
   ]
  },
  {
   "cell_type": "code",
   "execution_count": 8,
   "metadata": {},
   "outputs": [
    {
     "name": "stdout",
     "output_type": "stream",
     "text": [
      "last character: 辣, frequency: 771\n"
     ]
    }
   ],
   "source": [
    "vocab = create_vocab(train_lines, size=vocab_size)"
   ]
  },
  {
   "cell_type": "code",
   "execution_count": 9,
   "metadata": {},
   "outputs": [],
   "source": [
    "def create_index_char(vocab):\n",
    "    vocab = vocab.copy()\n",
    "    vocab = ['<blk>', '<unk>', '<bos>', '<eos>'] + vocab\n",
    "    return dict(zip(range(0, len(vocab)), vocab)), dict(zip(vocab, range(0, len(vocab))))"
   ]
  },
  {
   "cell_type": "code",
   "execution_count": 10,
   "metadata": {},
   "outputs": [],
   "source": [
    "index2char, char2index = create_index_char(vocab)"
   ]
  },
  {
   "cell_type": "markdown",
   "metadata": {},
   "source": [
    "### 创建数据集"
   ]
  },
  {
   "cell_type": "code",
   "execution_count": 11,
   "metadata": {},
   "outputs": [],
   "source": [
    "class Couplets_dataset(Dataset):\n",
    "    def __init__(self, lines, char2index, min_len=10, max_len=20):\n",
    "        self.min_len = min_len\n",
    "        self.max_len = max_len\n",
    "        \n",
    "        ups = []\n",
    "        downs = []\n",
    "        \n",
    "        for line in lines:  \n",
    "            if '；' in line:\n",
    "                line_split = tuple(line.split('；'))\n",
    "                if len(line_split) == 2:\n",
    "                    up, down = line_split\n",
    "            else:\n",
    "                continue\n",
    "                \n",
    "            down = down[:-1]\n",
    "            if len(up) != len(down):\n",
    "                continue\n",
    "                \n",
    "            up_len = len(up)\n",
    "            if up_len < min_len or up_len > max_len:\n",
    "                continue\n",
    "            \n",
    "            ups.append(up)\n",
    "            downs.append(down)\n",
    "            \n",
    "        self.ups = ups\n",
    "        self.downs = downs\n",
    "        self.eye = torch.eye(len(char2index), dtype=torch.float32)\n",
    "        \n",
    "    def __getitem__(self, index):\n",
    "        up, down = self.ups[index], self.downs[index]\n",
    "        down = ['<bos>'] + list(down) + ['<eos>']\n",
    "        \n",
    "        up_len = len(up)\n",
    "        if up_len < self.max_len:\n",
    "            up = list(up) + ['<blk>'] * (self.max_len - up_len)\n",
    "            down = down + ['<blk>'] * (self.max_len - up_len)\n",
    "        \n",
    "        x = torch.tensor([char2index.get(c, char2index['<unk>']) for c in up], dtype=torch.long)\n",
    "        y = self.eye[[char2index.get(c, char2index['<unk>']) for c in down]]\n",
    "        \n",
    "        return x, y\n",
    "    \n",
    "    def __len__(self):\n",
    "        return len(self.ups)"
   ]
  },
  {
   "cell_type": "code",
   "execution_count": 12,
   "metadata": {},
   "outputs": [
    {
     "data": {
      "text/plain": [
       "(644701, 2481)"
      ]
     },
     "execution_count": 12,
     "metadata": {},
     "output_type": "execute_result"
    }
   ],
   "source": [
    "train_set = Couplets_dataset(train_lines, char2index, min_len=5, max_len=15)\n",
    "test_set = Couplets_dataset(test_lines, char2index, min_len=5, max_len=15)\n",
    "\n",
    "len(train_set), len(test_set)"
   ]
  },
  {
   "cell_type": "code",
   "execution_count": 13,
   "metadata": {},
   "outputs": [
    {
     "data": {
      "text/plain": [
       "(torch.Size([15]), torch.Size([17, 2004]))"
      ]
     },
     "execution_count": 13,
     "metadata": {},
     "output_type": "execute_result"
    }
   ],
   "source": [
    "# Test\n",
    "\n",
    "X, Y = train_set[6]\n",
    "X.size(), Y.size()"
   ]
  },
  {
   "cell_type": "code",
   "execution_count": 14,
   "metadata": {},
   "outputs": [
    {
     "data": {
      "text/plain": [
       "['<bos>',\n",
       " '诚',\n",
       " '心',\n",
       " '待',\n",
       " '民',\n",
       " '铸',\n",
       " '<unk>',\n",
       " '魂',\n",
       " '<eos>',\n",
       " '<blk>',\n",
       " '<blk>',\n",
       " '<blk>',\n",
       " '<blk>',\n",
       " '<blk>',\n",
       " '<blk>',\n",
       " '<blk>',\n",
       " '<blk>']"
      ]
     },
     "execution_count": 14,
     "metadata": {},
     "output_type": "execute_result"
    }
   ],
   "source": [
    "# Test\n",
    "\n",
    "[index2char[i.item()] for i in train_set[6][1].argmax(dim=1)]"
   ]
  },
  {
   "cell_type": "code",
   "execution_count": 15,
   "metadata": {},
   "outputs": [],
   "source": [
    "train_loader = DataLoader(train_set, batch_size=256, shuffle=True, num_workers=4)\n",
    "test_loader = DataLoader(test_set, batch_size=256, shuffle=False, num_workers=4)"
   ]
  },
  {
   "cell_type": "code",
   "execution_count": 16,
   "metadata": {},
   "outputs": [
    {
     "data": {
      "text/plain": [
       "(torch.Size([256, 15]), torch.Size([256, 17, 2004]))"
      ]
     },
     "execution_count": 16,
     "metadata": {},
     "output_type": "execute_result"
    }
   ],
   "source": [
    "# Test\n",
    "\n",
    "X, Y = next(iter(train_loader))\n",
    "X.size(), Y.size()"
   ]
  },
  {
   "cell_type": "markdown",
   "metadata": {},
   "source": [
    "### 构建网络"
   ]
  },
  {
   "cell_type": "markdown",
   "metadata": {},
   "source": [
    "#### encoder"
   ]
  },
  {
   "cell_type": "code",
   "execution_count": 17,
   "metadata": {},
   "outputs": [],
   "source": [
    "class Couplet_encoder(nn.Module):\n",
    "    def __init__(self, embedding_layer, hidden_dim=200, layer_num=2):\n",
    "        super().__init__()\n",
    "        \n",
    "        self.embedding = embedding_layer\n",
    "        self.bilstm = nn.LSTM(embedding_layer.weight.size(1), hidden_dim, layer_num, bidirectional=True)\n",
    "        \n",
    "    def forward(self, X):\n",
    "        X = self.embedding(X)\n",
    "        X = self.bilstm(X)\n",
    "        return X"
   ]
  },
  {
   "cell_type": "code",
   "execution_count": 18,
   "metadata": {},
   "outputs": [
    {
     "data": {
      "text/plain": [
       "(torch.Size([256, 15, 400]),\n",
       " torch.Size([4, 15, 200]),\n",
       " torch.Size([4, 15, 200]))"
      ]
     },
     "execution_count": 18,
     "metadata": {},
     "output_type": "execute_result"
    }
   ],
   "source": [
    "# Test\n",
    "\n",
    "embedding_layer = nn.Embedding(len(char2index), 100)\n",
    "encoder = Couplet_encoder(embedding_layer)\n",
    "\n",
    "X, Y = next(iter(train_loader))\n",
    "output, (h_n, c_n) = encoder(X)\n",
    "output.size(), h_n.size(), c_n.size()"
   ]
  },
  {
   "cell_type": "markdown",
   "metadata": {},
   "source": [
    "#### attention"
   ]
  },
  {
   "cell_type": "code",
   "execution_count": 19,
   "metadata": {},
   "outputs": [],
   "source": [
    "class Attention_layer(nn.Module):\n",
    "    def __init__(self, encoder_output_dim, decoder_h_dim):\n",
    "        super().__init__()\n",
    "        \n",
    "        self.fc = nn.Linear(encoder_output_dim + decoder_h_dim, 1)\n",
    "        self.softmax = nn.Softmax(1)\n",
    "        \n",
    "    def forward(self, encoder_output, decoder_h):\n",
    "        decoder_h_repeat = torch.stack([decoder_h] * encoder_output.size(1), 1)\n",
    "        merge = torch.cat((encoder_output, decoder_h_repeat), dim=2)\n",
    "        merge = merge.view(merge.size(0) * merge.size(1), merge.size(2))\n",
    "        \n",
    "        X = self.fc(merge).view(encoder_output.size(0), encoder_output.size(1))\n",
    "        attention_weights = self.softmax(X).view(X.size(0), X.size(1), 1)\n",
    "        \n",
    "        return (attention_weights * encoder_output).sum(dim=1)"
   ]
  },
  {
   "cell_type": "code",
   "execution_count": 20,
   "metadata": {},
   "outputs": [
    {
     "data": {
      "text/plain": [
       "torch.Size([100, 40])"
      ]
     },
     "execution_count": 20,
     "metadata": {},
     "output_type": "execute_result"
    }
   ],
   "source": [
    "# Test\n",
    "\n",
    "encoder_output = torch.randn(100, 15, 40)\n",
    "decoder_h = torch.randn(100, 40)\n",
    "\n",
    "attention_layer = Attention_layer(encoder_output.size(-1), decoder_h.size(-1))\n",
    "attention_layer(encoder_output, decoder_h).size()"
   ]
  },
  {
   "cell_type": "markdown",
   "metadata": {},
   "source": [
    "#### decoder"
   ]
  },
  {
   "cell_type": "code",
   "execution_count": 76,
   "metadata": {},
   "outputs": [],
   "source": [
    "class Couplet_decoder(nn.Module):\n",
    "    def __init__(self, embedding_layer, attention_layer, encoder_output_dim, encoder_state_dim, hidden_dim=200):\n",
    "        super().__init__()\n",
    "        \n",
    "        self.hidden_dim = hidden_dim\n",
    "        \n",
    "        self.embedding = embedding_layer\n",
    "        self.attention = attention_layer\n",
    "        \n",
    "        self.h_project_fc = nn.Linear(encoder_state_dim, hidden_dim * 2)\n",
    "        self.c_project_fc = nn.Linear(encoder_state_dim, hidden_dim * 2)\n",
    "        \n",
    "        self.lstm_cell_0 = nn.LSTMCell(embedding_layer.weight.size(1) + encoder_output_dim, hidden_dim)\n",
    "        self.lstm_cell_1 = nn.LSTMCell(hidden_dim, hidden_dim)\n",
    "        self.fc = nn.Linear(hidden_dim, embedding_layer.weight.size(0))\n",
    "        self.softmax = nn.Softmax(dim=1)\n",
    "        \n",
    "    def forward(self, X, encoder_output, encoder_last_state):\n",
    "        encoder_last_h, encoder_last_c = encoder_last_state\n",
    "        decoder_input_h, decoder_input_c = self.h_project_fc(encoder_last_h), self.c_project_fc(encoder_last_c)\n",
    "        \n",
    "        decoder_h_0, decoder_h_1 = decoder_input_h[:, :self.hidden_dim], decoder_input_h[:, self.hidden_dim:]\n",
    "        decoder_c_0, decoder_c_1 = decoder_input_c[:, :self.hidden_dim], decoder_input_h[:, self.hidden_dim:]\n",
    "        \n",
    "        outputs = []        \n",
    "        for i in range(X.size(1)):\n",
    "            X_step = X[:, i].argmax(1)\n",
    "            embedding_step = self.embedding(X_step)\n",
    "            attention_step = self.attention(encoder_output, decoder_h_1)\n",
    "            input_step = torch.cat([embedding_step, attention_step], dim=1)\n",
    "            \n",
    "            decoder_h_0, decoder_c_0 = self.lstm_cell_0(input_step, (decoder_h_0, decoder_c_0))\n",
    "            decoder_h_1, decoder_c_1 = self.lstm_cell_1(decoder_h_0, (decoder_h_1, decoder_c_1))\n",
    "            Y_step = self.fc(decoder_h_1)\n",
    "            outputs.append(Y_step)\n",
    "            \n",
    "        return torch.stack(outputs, dim=1)\n",
    "    \n",
    "    def _beam_score(self, Y_prob, alpha=0.7):\n",
    "        return ((1 / Y_prob.size(1)) ** alpha) * Y_prob.log().sum(dim=1)\n",
    "    \n",
    "    def _pick_beam_width(self, best_probs_list, step_probs_list, alpha=0.7):\n",
    "        score_indices = []\n",
    "        \n",
    "        for i in range(len(best_probs_list)):\n",
    "            best_probs = best_probs_list[i]\n",
    "            step_probs = step_probs_list[i]\n",
    "            step_prob_list = list(torch.split(step_probs, 1, dim=1))\n",
    "            \n",
    "            for j in range(len(step_prob_list)):\n",
    "                probs = torch.cat([best_probs, step_prob_list[j]], dim=1)\n",
    "                score = self._beam_score(probs, alpha).item()               \n",
    "                score_indices.append((score, i, j))\n",
    "\n",
    "        sorted_score_indices = sorted(score_indices, key=lambda x: x[0], reverse=True)\n",
    "        \n",
    "        return sorted_score_indices\n",
    "                \n",
    "    \n",
    "    def beam_search(self, encoder_output, encoder_last_state, index2char, char2index, \n",
    "                    beam_width=3, alpha=0.7, max_len=15):\n",
    "        encoder_last_h, encoder_last_c = encoder_last_state\n",
    "        decoder_input_h, decoder_input_c = self.h_project_fc(encoder_last_h), self.c_project_fc(encoder_last_c)\n",
    "        \n",
    "        decoder_h_0, decoder_h_1 = decoder_input_h[:, :self.hidden_dim], decoder_input_h[:, self.hidden_dim:]\n",
    "        decoder_c_0, decoder_c_1 = decoder_input_c[:, :self.hidden_dim], decoder_input_h[:, self.hidden_dim:]\n",
    "        \n",
    "        best_output_list = [torch.tensor([[char2index['<bos>']]] * encoder_output.size(0), \n",
    "                                         dtype=torch.long, device=device, requires_grad=False)]\n",
    "        best_probs_list = None\n",
    "        best_state_0_list = [(decoder_h_0, decoder_c_0)]\n",
    "        best_state_1_list = [(decoder_h_1, decoder_c_1)]\n",
    "        \n",
    "        for _ in range(max_len):\n",
    "            step_probs_list = []\n",
    "            step_indices_list = []\n",
    "            step_state_0_list = []\n",
    "            step_state_1_list = []\n",
    "            \n",
    "            for i in range(1 if best_probs_list is None else beam_width):\n",
    "                X_step = best_output_list[i][:, -1]\n",
    "                decoder_h_0, decoder_c_0 = best_state_0_list[i]\n",
    "                decoder_h_1, decoder_c_1 = best_state_1_list[i]\n",
    "            \n",
    "                embedding_step = self.embedding(X_step)\n",
    "                attention_step = self.attention(encoder_output, decoder_h_1)\n",
    "                input_step = torch.cat([embedding_step, attention_step], dim=1)\n",
    "            \n",
    "                decoder_h_0, decoder_c_0 = self.lstm_cell_0(input_step, (decoder_h_0, decoder_c_0))\n",
    "                decoder_h_1, decoder_c_1 = self.lstm_cell_1(decoder_h_0, (decoder_h_1, decoder_c_1))\n",
    "                Y_step = self.fc(decoder_h_1)\n",
    "                Y_step = self.softmax(Y_step)\n",
    "                \n",
    "                sorted_probs, sorted_indices = Y_step.sort(dim=1, descending=True)\n",
    "                step_probs = sorted_probs[:, :beam_width]\n",
    "                step_indices = sorted_indices[:, :beam_width]\n",
    "                \n",
    "                step_probs_list.append(step_probs)\n",
    "                step_indices_list.append(step_indices)                \n",
    "                step_state_0_list.append((decoder_h_0, decoder_c_0))\n",
    "                step_state_1_list.append((decoder_h_1, decoder_c_1))\n",
    "                \n",
    "            if best_probs_list is None:\n",
    "                best_probs_list = list(torch.split(step_probs_list[0], 1, dim=1))\n",
    "                best_output_list = list(torch.split(step_indices_list[0], 1, dim=1))\n",
    "                best_state_0_list = step_state_0_list * 3\n",
    "                best_state_1_list = step_state_1_list * 3\n",
    "            else:\n",
    "                sorted_score_indices = self._pick_beam_width(best_probs_list, step_probs_list, alpha)\n",
    "                    \n",
    "                temp_best_probs_list = []\n",
    "                temp_best_output_list = []\n",
    "                best_state_0_list = []\n",
    "                best_state_1_list = []\n",
    "                for j in range(beam_width):\n",
    "                    score, ii, jj = sorted_score_indices[j]\n",
    "                    best_probs = torch.cat([best_probs_list[ii], \n",
    "                                            torch.split(step_probs_list[ii], 1, dim=1)[jj]],\n",
    "                                           dim=1)\n",
    "                    best_output = torch.cat([best_output_list[ii],\n",
    "                                           torch.split(step_indices_list[ii], 1, dim=1)[jj]],\n",
    "                                           dim=1),\n",
    "                    temp_best_probs_list.append(best_probs)\n",
    "                    temp_best_output_list.append(best_output[0])\n",
    "                    best_state_0_list.append(step_state_0_list[ii])\n",
    "                    best_state_1_list.append(step_state_1_list[ii])\n",
    "                    \n",
    "                best_probs_list = temp_best_probs_list.copy()\n",
    "                best_output_list = temp_best_output_list.copy()\n",
    "                \n",
    "        best_probs = torch.cat(best_probs_list, dim=0)\n",
    "        best_outputs = torch.cat(best_output_list, dim=0) \n",
    "        scores = self._beam_score(best_probs, alpha)\n",
    "        \n",
    "        return best_output[torch.argmax(scores)]"
   ]
  },
  {
   "cell_type": "code",
   "execution_count": 77,
   "metadata": {},
   "outputs": [
    {
     "data": {
      "text/plain": [
       "torch.Size([100, 15, 2004])"
      ]
     },
     "execution_count": 77,
     "metadata": {},
     "output_type": "execute_result"
    }
   ],
   "source": [
    "# Test\n",
    "\n",
    "X = torch.randn(100, 15, 40)\n",
    "encoder_last_state = torch.randn(100, 20), torch.randn(100, 20)\n",
    "\n",
    "encoder_output = torch.randn(100, 15, 40)\n",
    "decoder_h = torch.randn(100, 40)\n",
    "attention_layer = Attention_layer(encoder_output.size(-1), decoder_h.size(-1))\n",
    "\n",
    "embedding_layer = nn.Embedding(len(char2index), 120)\n",
    "\n",
    "\n",
    "decoder = Couplet_decoder(embedding_layer, attention_layer, encoder_output_dim=40, encoder_state_dim=20, hidden_dim=40)\n",
    "decoder(X, encoder_output, encoder_last_state).size()"
   ]
  },
  {
   "cell_type": "code",
   "execution_count": 79,
   "metadata": {},
   "outputs": [
    {
     "data": {
      "text/plain": [
       "tensor([[ 756,  756, 1828, 1828, 1828, 1828, 1142, 1828, 1828, 1142, 1828, 1828,\n",
       "         1828, 1142,  996]])"
      ]
     },
     "execution_count": 79,
     "metadata": {},
     "output_type": "execute_result"
    }
   ],
   "source": [
    "# Test\n",
    "\n",
    "X = torch.randn(1, 15, 40)\n",
    "encoder_last_state = torch.randn(1, 20), torch.randn(1, 20)\n",
    "\n",
    "encoder_output = torch.randn(1, 15, 40)\n",
    "decoder_h = torch.randn(1, 40)\n",
    "attention_layer = Attention_layer(encoder_output.size(-1), decoder_h.size(-1))\n",
    "\n",
    "embedding_layer = nn.Embedding(len(char2index), 120)\n",
    "\n",
    "with torch.no_grad():\n",
    "    output = decoder.beam_search(encoder_output, encoder_last_state, index2char, char2index, beam_width=3)\n",
    "    \n",
    "output"
   ]
  },
  {
   "cell_type": "code",
   "execution_count": null,
   "metadata": {},
   "outputs": [],
   "source": []
  },
  {
   "cell_type": "code",
   "execution_count": null,
   "metadata": {},
   "outputs": [],
   "source": []
  }
 ],
 "metadata": {
  "kernelspec": {
   "display_name": "Python 3",
   "language": "python",
   "name": "python3"
  },
  "language_info": {
   "codemirror_mode": {
    "name": "ipython",
    "version": 3
   },
   "file_extension": ".py",
   "mimetype": "text/x-python",
   "name": "python",
   "nbconvert_exporter": "python",
   "pygments_lexer": "ipython3",
   "version": "3.7.3"
  }
 },
 "nbformat": 4,
 "nbformat_minor": 2
}
