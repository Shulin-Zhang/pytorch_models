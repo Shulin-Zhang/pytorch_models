{
 "cells": [
  {
   "cell_type": "code",
   "execution_count": 23,
   "metadata": {},
   "outputs": [
    {
     "data": {
      "text/plain": [
       "'1.3.0'"
      ]
     },
     "execution_count": 23,
     "metadata": {},
     "output_type": "execute_result"
    }
   ],
   "source": [
    "from collections import Counter\n",
    "import numpy as np\n",
    "import torch\n",
    "import torch.nn as nn\n",
    "import torch.optim as optim\n",
    "from torch.utils.data import Dataset, DataLoader\n",
    "\n",
    "np.random.seed(100)\n",
    "torch.manual_seed(100)\n",
    "\n",
    "torch.__version__"
   ]
  },
  {
   "cell_type": "code",
   "execution_count": 24,
   "metadata": {},
   "outputs": [],
   "source": [
    "raw_data = 'data/all_couplets.txt'\n",
    "vocab_size = 2000"
   ]
  },
  {
   "cell_type": "markdown",
   "metadata": {},
   "source": [
    "### 划分数据集"
   ]
  },
  {
   "cell_type": "code",
   "execution_count": 25,
   "metadata": {},
   "outputs": [],
   "source": [
    "def split_dataset(raw_data, test_size=3000):\n",
    "    with open(raw_data, 'r') as f:\n",
    "        lines = f.readlines()\n",
    "        \n",
    "    lines = list(map(str.strip, lines))\n",
    "    \n",
    "    np.random.shuffle(lines)\n",
    "    \n",
    "    train_lines = lines[test_size:]\n",
    "    test_lines = lines[:test_size]\n",
    "        \n",
    "    return train_lines, test_lines"
   ]
  },
  {
   "cell_type": "code",
   "execution_count": 26,
   "metadata": {},
   "outputs": [
    {
     "data": {
      "text/plain": [
       "(771491, 3000)"
      ]
     },
     "execution_count": 26,
     "metadata": {},
     "output_type": "execute_result"
    }
   ],
   "source": [
    "train_lines, test_lines = split_dataset(raw_data, test_size=3000)\n",
    "len(train_lines), len(test_lines)"
   ]
  },
  {
   "cell_type": "markdown",
   "metadata": {},
   "source": [
    "### 获取字符表"
   ]
  },
  {
   "cell_type": "code",
   "execution_count": 31,
   "metadata": {},
   "outputs": [],
   "source": [
    "def create_vocab(train_lines, size=-1):\n",
    "    counter = Counter(''.join(train_lines))\n",
    "    vocab = sorted(counter, key=lambda c: counter[c], reverse=True)\n",
    "    \n",
    "    if size != -1:\n",
    "        vocab = vocab[:size]\n",
    "    \n",
    "    print(f\"last character: {vocab[-1]}, frequency: {counter[vocab[-1]]}\")\n",
    "        \n",
    "    return vocab"
   ]
  },
  {
   "cell_type": "code",
   "execution_count": 32,
   "metadata": {},
   "outputs": [
    {
     "name": "stdout",
     "output_type": "stream",
     "text": [
      "last character: 辣, frequency: 771\n"
     ]
    }
   ],
   "source": [
    "vocab = create_vocab(train_lines, size=vocab_size)"
   ]
  },
  {
   "cell_type": "code",
   "execution_count": 96,
   "metadata": {},
   "outputs": [],
   "source": [
    "def create_index_char(vocab):\n",
    "    vocab = vocab.copy()\n",
    "    vocab = [' ', '<unk>', '<bos>', '<eos>'] + vocab\n",
    "    return dict(zip(range(0, len(vocab)), vocab)), dict(zip(vocab, range(0, len(vocab))))"
   ]
  },
  {
   "cell_type": "code",
   "execution_count": 97,
   "metadata": {},
   "outputs": [],
   "source": [
    "index2char, char2index = create_index_char(vocab)"
   ]
  },
  {
   "cell_type": "markdown",
   "metadata": {},
   "source": [
    "### 创建数据集"
   ]
  },
  {
   "cell_type": "code",
   "execution_count": 98,
   "metadata": {},
   "outputs": [],
   "source": [
    "class Couplets_dataset(Dataset):\n",
    "    def __init__(self, lines, char2index, min_len=10, max_len=20):\n",
    "        self.min_len = min_len\n",
    "        self.max_len = max_len\n",
    "        \n",
    "        ups = []\n",
    "        downs = []\n",
    "        \n",
    "        for line in lines:  \n",
    "            if '；' in line:\n",
    "                line_split = tuple(line.split('；'))\n",
    "                if len(line_split) == 2:\n",
    "                    up, down = line_split\n",
    "            else:\n",
    "                continue\n",
    "                \n",
    "            down = down[:-1]\n",
    "            if len(up) != len(down):\n",
    "                continue\n",
    "                \n",
    "            up_len = len(up)\n",
    "            if up_len < min_len or up_len > max_len:\n",
    "                continue\n",
    "            \n",
    "            ups.append(up)\n",
    "            downs.append(down)\n",
    "            \n",
    "        self.ups = ups\n",
    "        self.downs = downs\n",
    "        self.eye = torch.eye(len(char2index), dtype=torch.float32)\n",
    "        \n",
    "    def __getitem__(self, index):\n",
    "        up, down = self.ups[index], self.downs[index]\n",
    "        \n",
    "        up_len = len(up)\n",
    "        if up_len < self.max_len:\n",
    "            up = up + ' ' * (self.max_len - up_len)\n",
    "            down = ['<bos>'] + list(down) + ['<eos>'] + [' '] * (self.max_len - up_len)\n",
    "        \n",
    "        x = torch.tensor([char2index.get(c, char2index['<unk>']) for c in up], dtype=torch.long)\n",
    "        y = self.eye[[char2index.get(c, char2index['<unk>']) for c in down]]\n",
    "        \n",
    "        return x, y\n",
    "    \n",
    "    def __len__(self):\n",
    "        return len(self.ups)"
   ]
  },
  {
   "cell_type": "code",
   "execution_count": 99,
   "metadata": {},
   "outputs": [],
   "source": [
    "train_set = Couplets_dataset(train_lines, char2index, min_len=5, max_len=15)"
   ]
  },
  {
   "cell_type": "code",
   "execution_count": 100,
   "metadata": {},
   "outputs": [],
   "source": [
    "x, y = train_set[0]"
   ]
  },
  {
   "cell_type": "code",
   "execution_count": 101,
   "metadata": {},
   "outputs": [
    {
     "data": {
      "text/plain": [
       "17"
      ]
     },
     "execution_count": 101,
     "metadata": {},
     "output_type": "execute_result"
    }
   ],
   "source": [
    "len(y)"
   ]
  },
  {
   "cell_type": "code",
   "execution_count": 102,
   "metadata": {},
   "outputs": [
    {
     "data": {
      "text/plain": [
       "'化雪融冰月色凉'"
      ]
     },
     "execution_count": 102,
     "metadata": {},
     "output_type": "execute_result"
    }
   ],
   "source": [
    "train_set.downs[0]"
   ]
  },
  {
   "cell_type": "code",
   "execution_count": 103,
   "metadata": {},
   "outputs": [
    {
     "data": {
      "text/plain": [
       "['<bos>',\n",
       " '化',\n",
       " '雪',\n",
       " '融',\n",
       " '冰',\n",
       " '月',\n",
       " '色',\n",
       " '凉',\n",
       " '<eos>',\n",
       " ' ',\n",
       " ' ',\n",
       " ' ',\n",
       " ' ',\n",
       " ' ',\n",
       " ' ',\n",
       " ' ',\n",
       " ' ']"
      ]
     },
     "execution_count": 103,
     "metadata": {},
     "output_type": "execute_result"
    }
   ],
   "source": [
    "[index2char[index] for index in torch.argmax(y, dim=1).numpy()]"
   ]
  },
  {
   "cell_type": "code",
   "execution_count": null,
   "metadata": {},
   "outputs": [],
   "source": []
  }
 ],
 "metadata": {
  "kernelspec": {
   "display_name": "Python 3",
   "language": "python",
   "name": "python3"
  },
  "language_info": {
   "codemirror_mode": {
    "name": "ipython",
    "version": 3
   },
   "file_extension": ".py",
   "mimetype": "text/x-python",
   "name": "python",
   "nbconvert_exporter": "python",
   "pygments_lexer": "ipython3",
   "version": "3.7.3"
  }
 },
 "nbformat": 4,
 "nbformat_minor": 2
}
