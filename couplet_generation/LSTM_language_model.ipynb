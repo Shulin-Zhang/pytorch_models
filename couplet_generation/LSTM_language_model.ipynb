{
 "cells": [
  {
   "cell_type": "code",
   "execution_count": 1,
   "metadata": {},
   "outputs": [
    {
     "data": {
      "text/plain": [
       "<torch._C.Generator at 0x1151fa430>"
      ]
     },
     "execution_count": 1,
     "metadata": {},
     "output_type": "execute_result"
    }
   ],
   "source": [
    "from collections import Counter\n",
    "import os\n",
    "\n",
    "import numpy as np\n",
    "import torch\n",
    "import torch.nn as nn\n",
    "import torch.optim as optim\n",
    "from torch.utils.data import Dataset, DataLoader\n",
    "\n",
    "np.random.seed(100)\n",
    "torch.manual_seed(100)"
   ]
  },
  {
   "cell_type": "code",
   "execution_count": 177,
   "metadata": {},
   "outputs": [],
   "source": [
    "raw_data_path = 'data/all_couplets.txt'\n",
    "vocabs_size = 2000"
   ]
  },
  {
   "cell_type": "markdown",
   "metadata": {},
   "source": [
    "### 划分数据集"
   ]
  },
  {
   "cell_type": "code",
   "execution_count": 28,
   "metadata": {},
   "outputs": [],
   "source": [
    "def split_dataset(raw_data_path, test_size=3000):\n",
    "    with open(raw_data_path, 'r') as f:\n",
    "        lines = f.readlines()\n",
    "        \n",
    "    lines = list(map(str.strip, lines))\n",
    "    \n",
    "    np.random.shuffle(lines)\n",
    "    \n",
    "    train_lines = lines[test_size:]\n",
    "    test_lines = lines[:test_size]\n",
    "        \n",
    "    return train_lines, test_lines"
   ]
  },
  {
   "cell_type": "code",
   "execution_count": 29,
   "metadata": {},
   "outputs": [
    {
     "data": {
      "text/plain": [
       "(771491, 3000)"
      ]
     },
     "execution_count": 29,
     "metadata": {},
     "output_type": "execute_result"
    }
   ],
   "source": [
    "train_lines, test_lines = split_dataset(raw_data_path, test_size=3000)\n",
    "\n",
    "len(train_lines), len(test_lines)"
   ]
  },
  {
   "cell_type": "markdown",
   "metadata": {},
   "source": [
    "### 获取字符表"
   ]
  },
  {
   "cell_type": "code",
   "execution_count": 30,
   "metadata": {},
   "outputs": [],
   "source": [
    "def create_vocabs(train_lines, size=-1):\n",
    "    counter = Counter(''.join(train_lines))\n",
    "    vocabs = sorted(counter, key=lambda c: counter[c], reverse=True)\n",
    "    \n",
    "    if size != -1:\n",
    "        vocabs = vocabs[:size]\n",
    "    \n",
    "    print(f\"last character: {vocabs[-1]}, frequency: {counter[vocabs[-1]]}\")\n",
    "        \n",
    "    return vocabs"
   ]
  },
  {
   "cell_type": "code",
   "execution_count": 31,
   "metadata": {},
   "outputs": [
    {
     "name": "stdout",
     "output_type": "stream",
     "text": [
      "last character: 辣, frequency: 770\n"
     ]
    }
   ],
   "source": [
    "vocabs = create_vocabs(train_lines, size=vocabs_size)"
   ]
  },
  {
   "cell_type": "code",
   "execution_count": 144,
   "metadata": {},
   "outputs": [],
   "source": [
    "def create_index_char(vocabs):\n",
    "    chars = vocabs.copy()\n",
    "    chars.insert(0, 'unk')\n",
    "\n",
    "    return dict(zip(range(2, len(chars) + 2), chars)), dict(zip(chars, range(2, len(chars) + 2)))"
   ]
  },
  {
   "cell_type": "code",
   "execution_count": 145,
   "metadata": {},
   "outputs": [],
   "source": [
    "index2char, char2index = create_index_char(vocabs)"
   ]
  },
  {
   "cell_type": "markdown",
   "metadata": {},
   "source": [
    "### 创建数据集"
   ]
  },
  {
   "cell_type": "code",
   "execution_count": 150,
   "metadata": {},
   "outputs": [],
   "source": [
    "class Couplets_dataset(Dataset):\n",
    "    def __init__(self, lines, char2index, min_len=10, max_len=20):\n",
    "        index_list = []\n",
    "        \n",
    "        for line in lines:\n",
    "            if len(line) < min_len:\n",
    "                continue\n",
    "                \n",
    "            stop_char_index = line.index('。')\n",
    "            if stop_char_index > max_len - 1:\n",
    "                continue\n",
    "            \n",
    "            indexs = [char2index.get(c, 2) for c in line]\n",
    "            \n",
    "            padding = max_len - len(indexs)\n",
    "            if padding > 0:\n",
    "                indexs += [1] * padding\n",
    "                \n",
    "            index_list.append(indexs)\n",
    "            \n",
    "        self.data = torch.tensor(index_list)\n",
    "        \n",
    "    def __getitem__(self, index):\n",
    "        y = self.data[index]\n",
    "        x = torch.cat([torch.tensor([0]), y[:-1]])\n",
    "        return x, y\n",
    "    \n",
    "    def __len__(self):\n",
    "        return self.data.size(0)"
   ]
  },
  {
   "cell_type": "code",
   "execution_count": 151,
   "metadata": {},
   "outputs": [],
   "source": [
    "train_set = Couplets_dataset(train_lines, char2index, max_len=30)\n",
    "test_set = Couplets_dataset(test_lines, char2index, max_len=30)"
   ]
  },
  {
   "cell_type": "code",
   "execution_count": 152,
   "metadata": {},
   "outputs": [
    {
     "data": {
      "text/plain": [
       "(646808, 2496)"
      ]
     },
     "execution_count": 152,
     "metadata": {},
     "output_type": "execute_result"
    }
   ],
   "source": [
    "len(train_set), len(test_set)"
   ]
  },
  {
   "cell_type": "code",
   "execution_count": 157,
   "metadata": {},
   "outputs": [],
   "source": [
    "train_loader = DataLoader(train_set, batch_size=256, shuffle=True, num_workers=4)\n",
    "test_loader = DataLoader(test_set, batch_size=256, shuffle=False, num_workers=4)"
   ]
  },
  {
   "cell_type": "code",
   "execution_count": 162,
   "metadata": {},
   "outputs": [
    {
     "name": "stdout",
     "output_type": "stream",
     "text": [
      "torch.Size([256, 30])\n",
      "torch.Size([256, 30])\n",
      "torch.Size([256, 30])\n",
      "torch.Size([256, 30])\n",
      "torch.Size([256, 30])\n",
      "torch.Size([256, 30])\n",
      "torch.Size([256, 30])\n",
      "torch.Size([256, 30])\n",
      "torch.Size([256, 30])\n",
      "torch.Size([192, 30])\n"
     ]
    }
   ],
   "source": [
    "for X, Y in test_loader:\n",
    "    print(X.shape)"
   ]
  },
  {
   "cell_type": "markdown",
   "metadata": {},
   "source": [
    "### 创建LSTM网络"
   ]
  },
  {
   "cell_type": "code",
   "execution_count": 190,
   "metadata": {},
   "outputs": [],
   "source": [
    "class Couplets_net(nn.Module):\n",
    "    def __init__(self, vocabs_size, embedding_dim=100, hidden_dim=200, num_layers=2):\n",
    "        super().__init__()\n",
    "        \n",
    "        self.hidden_dim = hidden_dim\n",
    "        \n",
    "        self.embedding = nn.Embedding(vocabs_size + 2, embedding_dim)\n",
    "        \n",
    "        self.lstm_cell_0 = nn.LSTMCell(embedding_dim, hidden_dim)\n",
    "        self.fc_0 = nn.Linear(hidden_dim, hidden_dim)\n",
    "        self.relu_0 = nn.ReLU(True)\n",
    "        self.bn_0 = nn.BatchNorm1d(hidden_dim)\n",
    "        self.lstm_cell_1 = nn.LSTMCell(hidden_dim, hidden_dim)\n",
    "        self.fc_1 = nn.Linear(hidden_dim, vocabs_size + 2)\n",
    "        self.softmax_1 = nn.Softmax(-1)\n",
    "\n",
    "    def forward(self, X):   \n",
    "        X = self.embedding(X)\n",
    "        \n",
    "        h_0 = torch.zeros(X.size(0), self.hidden_dim)\n",
    "        c_0 = torch.zeros(X.size(0), self.hidden_dim)\n",
    "        h_1 = torch.zeros(X.size(0), self.hidden_dim)\n",
    "        c_1 = torch.zeros(X.size(0), self.hidden_dim)\n",
    "        \n",
    "        Y_out = []\n",
    "        \n",
    "        for i in range(X.size(1)):\n",
    "            X_step = X[:, i]\n",
    "                        \n",
    "            h_0, c_0 = self.lstm_cell_0(X_step, (h_0, c_0))\n",
    "            X_step = self.fc_0(h_0)\n",
    "            X_step = self.relu_0(X_step)\n",
    "            X_step = self.bn_0(X_step)\n",
    "            \n",
    "            h_1, c_1 = self.lstm_cell_1(X_step, (h_1, c_1))\n",
    "            X_step = self.fc_1(h_1)\n",
    "            X_step = self.softmax_1(X_step)\n",
    "            \n",
    "            Y_out.append(X_step)\n",
    "            \n",
    "        return torch.stack(Y_out).transpose(0, 1)"
   ]
  },
  {
   "cell_type": "code",
   "execution_count": 191,
   "metadata": {},
   "outputs": [],
   "source": [
    "model = Couplets_net(vocabs_size)"
   ]
  },
  {
   "cell_type": "code",
   "execution_count": 194,
   "metadata": {},
   "outputs": [],
   "source": [
    "X, Y = next(iter(train_loader))"
   ]
  },
  {
   "cell_type": "code",
   "execution_count": 195,
   "metadata": {},
   "outputs": [
    {
     "data": {
      "text/plain": [
       "torch.Size([256, 30, 2002])"
      ]
     },
     "execution_count": 195,
     "metadata": {},
     "output_type": "execute_result"
    }
   ],
   "source": [
    "model(X).size()"
   ]
  },
  {
   "cell_type": "code",
   "execution_count": null,
   "metadata": {},
   "outputs": [],
   "source": []
  }
 ],
 "metadata": {
  "kernelspec": {
   "display_name": "Python 3",
   "language": "python",
   "name": "python3"
  },
  "language_info": {
   "codemirror_mode": {
    "name": "ipython",
    "version": 3
   },
   "file_extension": ".py",
   "mimetype": "text/x-python",
   "name": "python",
   "nbconvert_exporter": "python",
   "pygments_lexer": "ipython3",
   "version": "3.7.3"
  }
 },
 "nbformat": 4,
 "nbformat_minor": 2
}
