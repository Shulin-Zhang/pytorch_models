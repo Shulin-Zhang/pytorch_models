{
 "cells": [
  {
   "cell_type": "code",
   "execution_count": 1,
   "metadata": {},
   "outputs": [
    {
     "data": {
      "text/plain": [
       "<torch._C.Generator at 0x1151fa430>"
      ]
     },
     "execution_count": 1,
     "metadata": {},
     "output_type": "execute_result"
    }
   ],
   "source": [
    "from collections import Counter\n",
    "import os\n",
    "\n",
    "import numpy as np\n",
    "import torch\n",
    "import torch.nn as nn\n",
    "import torch.optim as optim\n",
    "from torch.utils.data import Dataset, DataLoader\n",
    "\n",
    "np.random.seed(100)\n",
    "torch.manual_seed(100)"
   ]
  },
  {
   "cell_type": "code",
   "execution_count": 126,
   "metadata": {},
   "outputs": [],
   "source": [
    "raw_data_path = 'data/all_couplets.txt'\n",
    "vocabs_size = 200"
   ]
  },
  {
   "cell_type": "markdown",
   "metadata": {},
   "source": [
    "### 划分数据集"
   ]
  },
  {
   "cell_type": "code",
   "execution_count": 28,
   "metadata": {},
   "outputs": [],
   "source": [
    "def split_dataset(raw_data_path, test_size=3000):\n",
    "    with open(raw_data_path, 'r') as f:\n",
    "        lines = f.readlines()\n",
    "        \n",
    "    lines = list(map(str.strip, lines))\n",
    "    \n",
    "    np.random.shuffle(lines)\n",
    "    \n",
    "    train_lines = lines[test_size:]\n",
    "    test_lines = lines[:test_size]\n",
    "        \n",
    "    return train_lines, test_lines"
   ]
  },
  {
   "cell_type": "code",
   "execution_count": 29,
   "metadata": {},
   "outputs": [
    {
     "data": {
      "text/plain": [
       "(771491, 3000)"
      ]
     },
     "execution_count": 29,
     "metadata": {},
     "output_type": "execute_result"
    }
   ],
   "source": [
    "train_lines, test_lines = split_dataset(raw_data_path, test_size=3000)\n",
    "\n",
    "len(train_lines), len(test_lines)"
   ]
  },
  {
   "cell_type": "markdown",
   "metadata": {},
   "source": [
    "### 获取字符表"
   ]
  },
  {
   "cell_type": "code",
   "execution_count": 30,
   "metadata": {},
   "outputs": [],
   "source": [
    "def create_vocabs(train_lines, size=-1):\n",
    "    counter = Counter(''.join(train_lines))\n",
    "    vocabs = sorted(counter, key=lambda c: counter[c], reverse=True)\n",
    "    \n",
    "    if size != -1:\n",
    "        vocabs = vocabs[:size]\n",
    "    \n",
    "    print(f\"last character: {vocabs[-1]}, frequency: {counter[vocabs[-1]]}\")\n",
    "        \n",
    "    return vocabs"
   ]
  },
  {
   "cell_type": "code",
   "execution_count": 31,
   "metadata": {},
   "outputs": [
    {
     "name": "stdout",
     "output_type": "stream",
     "text": [
      "last character: 辣, frequency: 770\n"
     ]
    }
   ],
   "source": [
    "vocabs = create_vocabs(train_lines, size=vocabs_size)"
   ]
  },
  {
   "cell_type": "code",
   "execution_count": 95,
   "metadata": {},
   "outputs": [],
   "source": [
    "def create_index_char(vocabs):\n",
    "    chars = vocabs.copy()\n",
    "    chars.insert(0, 'unk')\n",
    "\n",
    "    return dict(zip(range(1, len(chars) + 1), chars)), dict(zip(chars, range(1, len(chars) + 1)))"
   ]
  },
  {
   "cell_type": "code",
   "execution_count": 96,
   "metadata": {},
   "outputs": [],
   "source": [
    "index2char, char2index = create_index_char(vocabs)"
   ]
  },
  {
   "cell_type": "markdown",
   "metadata": {},
   "source": [
    "### 创建数据集"
   ]
  },
  {
   "cell_type": "code",
   "execution_count": 112,
   "metadata": {},
   "outputs": [],
   "source": [
    "class Couplets_dataset(Dataset):\n",
    "    def __init__(self, lines, char2index, min_len=10, max_len=20):\n",
    "        index_list = []\n",
    "        \n",
    "        for line in lines:\n",
    "            if len(line) < min_len:\n",
    "                continue\n",
    "                \n",
    "            stop_char_index = line.index('。')\n",
    "            if stop_char_index > max_len - 1:\n",
    "                continue\n",
    "            \n",
    "            indexs = [char2index.get(c, 1) for c in line]\n",
    "            \n",
    "            padding = max_len - len(indexs)\n",
    "            if padding > 0:\n",
    "                indexs += [0] * padding\n",
    "                \n",
    "            index_list.append(indexs)\n",
    "            \n",
    "        self.data = torch.tensor(index_list)\n",
    "        self.eye = torch.eye(len(char2index) + 1)\n",
    "        \n",
    "    def __getitem__(self, index):\n",
    "        y = self.eye[self.data[index]][:, 1:]\n",
    "        x = torch.cat([torch.zeros(1, y.size(1)), y[:-1]])\n",
    "        return x, y\n",
    "        \n",
    "    \n",
    "    def __len__(self):\n",
    "        return self.data.size(0)"
   ]
  },
  {
   "cell_type": "code",
   "execution_count": 113,
   "metadata": {},
   "outputs": [],
   "source": [
    "train_set = Couplets_dataset(train_lines, char2index, max_len=30)\n",
    "test_set = Couplets_dataset(test_lines, char2index, max_len=30)"
   ]
  },
  {
   "cell_type": "code",
   "execution_count": 114,
   "metadata": {},
   "outputs": [
    {
     "data": {
      "text/plain": [
       "(646808, 2496)"
      ]
     },
     "execution_count": 114,
     "metadata": {},
     "output_type": "execute_result"
    }
   ],
   "source": [
    "len(train_set), len(test_set)"
   ]
  },
  {
   "cell_type": "code",
   "execution_count": 115,
   "metadata": {},
   "outputs": [],
   "source": [
    "train_loader = DataLoader(train_set, batch_size=256, shuffle=True, num_workers=4)\n",
    "test_loader = DataLoader(test_set, batch_size=256, shuffle=False, num_workers=4)"
   ]
  },
  {
   "cell_type": "code",
   "execution_count": 125,
   "metadata": {},
   "outputs": [
    {
     "name": "stdout",
     "output_type": "stream",
     "text": [
      "torch.Size([256, 30, 2001])\n",
      "torch.Size([256, 30, 2001])\n",
      "torch.Size([256, 30, 2001])\n",
      "torch.Size([256, 30, 2001])\n",
      "torch.Size([256, 30, 2001])\n",
      "torch.Size([256, 30, 2001])\n",
      "torch.Size([256, 30, 2001])\n",
      "torch.Size([256, 30, 2001])\n",
      "torch.Size([256, 30, 2001])\n",
      "torch.Size([192, 30, 2001])\n"
     ]
    }
   ],
   "source": [
    "for X, Y in test_loader:\n",
    "    print(X.size())"
   ]
  },
  {
   "cell_type": "code",
   "execution_count": null,
   "metadata": {},
   "outputs": [],
   "source": []
  }
 ],
 "metadata": {
  "kernelspec": {
   "display_name": "Python 3",
   "language": "python",
   "name": "python3"
  },
  "language_info": {
   "codemirror_mode": {
    "name": "ipython",
    "version": 3
   },
   "file_extension": ".py",
   "mimetype": "text/x-python",
   "name": "python",
   "nbconvert_exporter": "python",
   "pygments_lexer": "ipython3",
   "version": "3.7.3"
  }
 },
 "nbformat": 4,
 "nbformat_minor": 2
}
