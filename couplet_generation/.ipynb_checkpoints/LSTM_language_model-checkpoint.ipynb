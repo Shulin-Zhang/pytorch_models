{
 "cells": [
  {
   "cell_type": "code",
   "execution_count": 196,
   "metadata": {},
   "outputs": [
    {
     "data": {
      "text/plain": [
       "<torch._C.Generator at 0x1151fa430>"
      ]
     },
     "execution_count": 196,
     "metadata": {},
     "output_type": "execute_result"
    }
   ],
   "source": [
    "from collections import Counter\n",
    "import os\n",
    "\n",
    "import numpy as np\n",
    "import torch\n",
    "import torch.nn as nn\n",
    "import torch.optim as optim\n",
    "import torch.optim.lr_scheduler as lr_scheduler \n",
    "from torch.utils.data import Dataset, DataLoader\n",
    "\n",
    "np.random.seed(100)\n",
    "torch.manual_seed(100)"
   ]
  },
  {
   "cell_type": "code",
   "execution_count": 177,
   "metadata": {},
   "outputs": [],
   "source": [
    "raw_data_path = 'data/all_couplets.txt'\n",
    "vocabs_size = 2000"
   ]
  },
  {
   "cell_type": "markdown",
   "metadata": {},
   "source": [
    "### 划分数据集"
   ]
  },
  {
   "cell_type": "code",
   "execution_count": 28,
   "metadata": {},
   "outputs": [],
   "source": [
    "def split_dataset(raw_data_path, test_size=3000):\n",
    "    with open(raw_data_path, 'r') as f:\n",
    "        lines = f.readlines()\n",
    "        \n",
    "    lines = list(map(str.strip, lines))\n",
    "    \n",
    "    np.random.shuffle(lines)\n",
    "    \n",
    "    train_lines = lines[test_size:]\n",
    "    test_lines = lines[:test_size]\n",
    "        \n",
    "    return train_lines, test_lines"
   ]
  },
  {
   "cell_type": "code",
   "execution_count": 29,
   "metadata": {},
   "outputs": [
    {
     "data": {
      "text/plain": [
       "(771491, 3000)"
      ]
     },
     "execution_count": 29,
     "metadata": {},
     "output_type": "execute_result"
    }
   ],
   "source": [
    "train_lines, test_lines = split_dataset(raw_data_path, test_size=3000)\n",
    "\n",
    "len(train_lines), len(test_lines)"
   ]
  },
  {
   "cell_type": "markdown",
   "metadata": {},
   "source": [
    "### 获取字符表"
   ]
  },
  {
   "cell_type": "code",
   "execution_count": 30,
   "metadata": {},
   "outputs": [],
   "source": [
    "def create_vocabs(train_lines, size=-1):\n",
    "    counter = Counter(''.join(train_lines))\n",
    "    vocabs = sorted(counter, key=lambda c: counter[c], reverse=True)\n",
    "    \n",
    "    if size != -1:\n",
    "        vocabs = vocabs[:size]\n",
    "    \n",
    "    print(f\"last character: {vocabs[-1]}, frequency: {counter[vocabs[-1]]}\")\n",
    "        \n",
    "    return vocabs"
   ]
  },
  {
   "cell_type": "code",
   "execution_count": 31,
   "metadata": {},
   "outputs": [
    {
     "name": "stdout",
     "output_type": "stream",
     "text": [
      "last character: 辣, frequency: 770\n"
     ]
    }
   ],
   "source": [
    "vocabs = create_vocabs(train_lines, size=vocabs_size)"
   ]
  },
  {
   "cell_type": "code",
   "execution_count": 212,
   "metadata": {},
   "outputs": [],
   "source": [
    "def create_index_char(vocabs):\n",
    "    chars = vocabs.copy()\n",
    "    chars.insert(0, 'unk')\n",
    "    chars.insert(0, ' ')\n",
    "    chars.insert(0, 'start')\n",
    "\n",
    "    return dict(zip(range(0, len(chars)), chars)), dict(zip(chars, range(0, len(chars))))"
   ]
  },
  {
   "cell_type": "code",
   "execution_count": 213,
   "metadata": {},
   "outputs": [],
   "source": [
    "index2char, char2index = create_index_char(vocabs)"
   ]
  },
  {
   "cell_type": "markdown",
   "metadata": {},
   "source": [
    "### 创建数据集"
   ]
  },
  {
   "cell_type": "code",
   "execution_count": 277,
   "metadata": {},
   "outputs": [],
   "source": [
    "class Couplets_dataset(Dataset):\n",
    "    def __init__(self, lines, char2index, min_len=10, max_len=20):\n",
    "        index_list = []\n",
    "        \n",
    "        for line in lines:\n",
    "            if len(line) < min_len:\n",
    "                continue\n",
    "                \n",
    "            stop_char_index = line.index('。')\n",
    "            if stop_char_index > max_len - 1:\n",
    "                continue\n",
    "            \n",
    "            indexs = [char2index.get(c, 2) for c in line]\n",
    "            \n",
    "            padding = max_len - len(indexs)\n",
    "            if padding > 0:\n",
    "                indexs += [1] * padding\n",
    "                \n",
    "            index_list.append(indexs)\n",
    "            \n",
    "        self.data = torch.tensor(index_list)\n",
    "        \n",
    "    def __getitem__(self, index):\n",
    "        y = self.data[index]\n",
    "        x = torch.cat([torch.tensor([0]), y[:-1]])\n",
    "        \n",
    "        return x, y\n",
    "    \n",
    "    def __len__(self):\n",
    "        return self.data.size(0)"
   ]
  },
  {
   "cell_type": "code",
   "execution_count": 278,
   "metadata": {},
   "outputs": [],
   "source": [
    "train_set = Couplets_dataset(train_lines, char2index, max_len=30)\n",
    "test_set = Couplets_dataset(test_lines, char2index, max_len=30)"
   ]
  },
  {
   "cell_type": "code",
   "execution_count": 279,
   "metadata": {},
   "outputs": [
    {
     "data": {
      "text/plain": [
       "(646808, 2496)"
      ]
     },
     "execution_count": 279,
     "metadata": {},
     "output_type": "execute_result"
    }
   ],
   "source": [
    "len(train_set), len(test_set)"
   ]
  },
  {
   "cell_type": "code",
   "execution_count": 280,
   "metadata": {},
   "outputs": [],
   "source": [
    "x, y = train_set[0]"
   ]
  },
  {
   "cell_type": "code",
   "execution_count": 281,
   "metadata": {},
   "outputs": [],
   "source": [
    "train_loader = DataLoader(train_set, batch_size=256, shuffle=True, num_workers=4)\n",
    "test_loader = DataLoader(test_set, batch_size=256, shuffle=False, num_workers=4)"
   ]
  },
  {
   "cell_type": "code",
   "execution_count": 282,
   "metadata": {},
   "outputs": [
    {
     "name": "stdout",
     "output_type": "stream",
     "text": [
      "torch.Size([256, 30])\n",
      "torch.Size([256, 30])\n",
      "torch.Size([256, 30])\n",
      "torch.Size([256, 30])\n",
      "torch.Size([256, 30])\n",
      "torch.Size([256, 30])\n",
      "torch.Size([256, 30])\n",
      "torch.Size([256, 30])\n",
      "torch.Size([256, 30])\n",
      "torch.Size([192, 30])\n"
     ]
    }
   ],
   "source": [
    "for X, Y in test_loader:\n",
    "    print(X.shape)"
   ]
  },
  {
   "cell_type": "markdown",
   "metadata": {},
   "source": [
    "### 创建LSTM网络"
   ]
  },
  {
   "cell_type": "code",
   "execution_count": 283,
   "metadata": {},
   "outputs": [],
   "source": [
    "class Couplets_net(nn.Module):\n",
    "    def __init__(self, vocabs_size, embedding_dim=100, hidden_dim=200, num_layers=2):\n",
    "        super().__init__()\n",
    "        \n",
    "        self.hidden_dim = hidden_dim\n",
    "        \n",
    "        self.embedding = nn.Embedding(vocabs_size, embedding_dim)\n",
    "        \n",
    "        self.lstm_cell_0 = nn.LSTMCell(embedding_dim, hidden_dim)\n",
    "        self.fc_0 = nn.Linear(hidden_dim, hidden_dim)\n",
    "        self.relu_0 = nn.ReLU(True)\n",
    "        self.bn_0 = nn.BatchNorm1d(hidden_dim)\n",
    "        self.lstm_cell_1 = nn.LSTMCell(hidden_dim, hidden_dim)\n",
    "        self.fc_1 = nn.Linear(hidden_dim, vocabs_size)\n",
    "\n",
    "    def forward(self, X):   \n",
    "        X = self.embedding(X)\n",
    "        \n",
    "        h_0 = torch.zeros(X.size(0), self.hidden_dim)\n",
    "        c_0 = torch.zeros(X.size(0), self.hidden_dim)\n",
    "        h_1 = torch.zeros(X.size(0), self.hidden_dim)\n",
    "        c_1 = torch.zeros(X.size(0), self.hidden_dim)\n",
    "        \n",
    "        Y_out = []\n",
    "        \n",
    "        for i in range(X.size(1)):\n",
    "            X_step = X[:, i]\n",
    "                        \n",
    "            h_0, c_0 = self.lstm_cell_0(X_step, (h_0, c_0))\n",
    "            X_step = self.fc_0(h_0)\n",
    "            X_step = self.relu_0(X_step)\n",
    "            X_step = self.bn_0(X_step)\n",
    "            \n",
    "            h_1, c_1 = self.lstm_cell_1(X_step, (h_1, c_1))\n",
    "            X_step = self.fc_1(h_1)\n",
    "            \n",
    "            Y_out.append(X_step)\n",
    "            \n",
    "        return torch.stack(Y_out).transpose(0, 1)"
   ]
  },
  {
   "cell_type": "code",
   "execution_count": 284,
   "metadata": {},
   "outputs": [],
   "source": [
    "model = Couplets_net(len(char2index))"
   ]
  },
  {
   "cell_type": "code",
   "execution_count": 285,
   "metadata": {},
   "outputs": [],
   "source": [
    "X, Y = next(iter(train_loader))"
   ]
  },
  {
   "cell_type": "code",
   "execution_count": 286,
   "metadata": {},
   "outputs": [
    {
     "data": {
      "text/plain": [
       "torch.float32"
      ]
     },
     "execution_count": 286,
     "metadata": {},
     "output_type": "execute_result"
    }
   ],
   "source": [
    "model(X).reshape((-1, 2003)).dtype"
   ]
  },
  {
   "cell_type": "code",
   "execution_count": 287,
   "metadata": {},
   "outputs": [
    {
     "data": {
      "text/plain": [
       "torch.int64"
      ]
     },
     "execution_count": 287,
     "metadata": {},
     "output_type": "execute_result"
    }
   ],
   "source": [
    "Y.dtype"
   ]
  },
  {
   "cell_type": "markdown",
   "metadata": {},
   "source": [
    "### 训练"
   ]
  },
  {
   "cell_type": "code",
   "execution_count": 301,
   "metadata": {},
   "outputs": [],
   "source": [
    "class Learner:\n",
    "    def __init__(self, model):\n",
    "        if torch.cuda.is_available():\n",
    "            self.model = model.to('cuda')\n",
    "        else:\n",
    "            self.model = model\n",
    "\n",
    "    def fit(self, dataloader, lr, epochs, weight_decay=0, print_steps=200):\n",
    "        self.model.train()\n",
    "\n",
    "        loss_fn = nn.CrossEntropyLoss()\n",
    "        optimizer = optim.SGD(self.model.parameters(), lr, momentum=0.9,\n",
    "                              weight_decay=weight_decay, nesterov=False)\n",
    "        scheduler = lr_scheduler.OneCycleLR(optimizer, lr, epochs=epochs,\n",
    "                                            steps_per_epoch=len(dataloader))\n",
    "\n",
    "        history_loss = []\n",
    "        history_steps = []\n",
    "        for epoch in range(epochs):\n",
    "            for step, (X, Y) in enumerate(dataloader):\n",
    "                if torch.cuda.is_available():\n",
    "                    X, Y = X.to('cuda'), Y.to('cuda')\n",
    "\n",
    "                outputs = self.model(X)\n",
    "                outputs = outputs.reshape((-1, outputs.size(-1)))\n",
    "                Y = Y.reshape((-1))\n",
    "                loss = loss_fn(outputs, Y)\n",
    "                optimizer.zero_grad()\n",
    "                loss.backward()\n",
    "                optimizer.step()\n",
    "                scheduler.step()\n",
    "\n",
    "                if step % print_steps == print_steps - 1:\n",
    "                    history_loss.append(loss.item())\n",
    "                    history_steps.append(epoch * len(dataloader) + step + 1)\n",
    "                    print(f\"epoch: {epoch + 1}    \\tstep: {step + 1}    \\tloss: {loss:.4f}\")\n",
    "\n",
    "        return history_steps, history_loss\n",
    "\n",
    "    def evaluate(self, dataloader):\n",
    "        self.model.eval()\n",
    "        \n",
    "        loss_fn = nn.CrossEntropyLoss()\n",
    "\n",
    "        losses = []\n",
    "\n",
    "        with torch.no_grad():\n",
    "            for X, Y in dataloader:\n",
    "                if torch.cuda.is_available():\n",
    "                    X, Y = X.to('cuda'), Y.to('cuda')\n",
    "\n",
    "                outputs = self.model(X)\n",
    "                outputs = outputs.reshape((-1, outputs.size(-1)))\n",
    "                Y = Y.reshape((-1))\n",
    "                loss = loss_fn(outputs, Y)\n",
    "                losses.append(loss)\n",
    "\n",
    "        return np.average(losses)\n",
    "\n",
    "    \n",
    "    def predict(self, dataloader):\n",
    "        self.model.eval()"
   ]
  },
  {
   "cell_type": "code",
   "execution_count": 302,
   "metadata": {},
   "outputs": [],
   "source": [
    "learn = Learner(model)"
   ]
  },
  {
   "cell_type": "code",
   "execution_count": 296,
   "metadata": {},
   "outputs": [
    {
     "name": "stdout",
     "output_type": "stream",
     "text": [
      "torch.Size([7680, 2003]) torch.Size([7680])\n",
      "torch.Size([7680, 2003]) torch.Size([7680])\n",
      "torch.Size([7680, 2003]) torch.Size([7680])\n",
      "torch.Size([7680, 2003]) torch.Size([7680])\n",
      "torch.Size([7680, 2003]) torch.Size([7680])\n",
      "torch.Size([7680, 2003]) torch.Size([7680])\n",
      "torch.Size([7680, 2003]) torch.Size([7680])\n",
      "torch.Size([7680, 2003]) torch.Size([7680])\n",
      "torch.Size([7680, 2003]) torch.Size([7680])\n",
      "torch.Size([7680, 2003]) torch.Size([7680])\n",
      "epoch: 1    \tstep: 10    \tloss: 7.5790\n",
      "torch.Size([7680, 2003]) torch.Size([7680])\n",
      "torch.Size([7680, 2003]) torch.Size([7680])\n",
      "torch.Size([7680, 2003]) torch.Size([7680])\n",
      "torch.Size([7680, 2003]) torch.Size([7680])\n",
      "torch.Size([7680, 2003]) torch.Size([7680])\n",
      "torch.Size([7680, 2003]) torch.Size([7680])\n",
      "torch.Size([7680, 2003]) torch.Size([7680])\n",
      "torch.Size([7680, 2003]) torch.Size([7680])\n",
      "torch.Size([7680, 2003]) torch.Size([7680])\n",
      "torch.Size([7680, 2003]) torch.Size([7680])\n",
      "epoch: 1    \tstep: 20    \tloss: 7.5453\n",
      "torch.Size([7680, 2003]) torch.Size([7680])\n",
      "torch.Size([7680, 2003]) torch.Size([7680])\n",
      "torch.Size([7680, 2003]) torch.Size([7680])\n",
      "torch.Size([7680, 2003]) torch.Size([7680])\n",
      "torch.Size([7680, 2003]) torch.Size([7680])\n",
      "torch.Size([7680, 2003]) torch.Size([7680])\n",
      "torch.Size([7680, 2003]) torch.Size([7680])\n",
      "torch.Size([7680, 2003]) torch.Size([7680])\n",
      "torch.Size([7680, 2003]) torch.Size([7680])\n",
      "torch.Size([7680, 2003]) torch.Size([7680])\n",
      "epoch: 1    \tstep: 30    \tloss: 7.4987\n",
      "torch.Size([7680, 2003]) torch.Size([7680])\n",
      "torch.Size([7680, 2003]) torch.Size([7680])\n",
      "torch.Size([7680, 2003]) torch.Size([7680])\n",
      "torch.Size([7680, 2003]) torch.Size([7680])\n",
      "torch.Size([7680, 2003]) torch.Size([7680])\n",
      "torch.Size([7680, 2003]) torch.Size([7680])\n",
      "torch.Size([7680, 2003]) torch.Size([7680])\n",
      "torch.Size([7680, 2003]) torch.Size([7680])\n",
      "torch.Size([7680, 2003]) torch.Size([7680])\n",
      "torch.Size([7680, 2003]) torch.Size([7680])\n",
      "epoch: 1    \tstep: 40    \tloss: 7.4496\n",
      "torch.Size([7680, 2003]) torch.Size([7680])\n",
      "torch.Size([7680, 2003]) torch.Size([7680])\n",
      "torch.Size([7680, 2003]) torch.Size([7680])\n",
      "torch.Size([7680, 2003]) torch.Size([7680])\n",
      "torch.Size([7680, 2003]) torch.Size([7680])\n",
      "torch.Size([7680, 2003]) torch.Size([7680])\n",
      "torch.Size([7680, 2003]) torch.Size([7680])\n",
      "torch.Size([7680, 2003]) torch.Size([7680])\n",
      "torch.Size([7680, 2003]) torch.Size([7680])\n",
      "torch.Size([7680, 2003]) torch.Size([7680])\n",
      "epoch: 1    \tstep: 50    \tloss: 7.4010\n",
      "torch.Size([7680, 2003]) torch.Size([7680])\n",
      "torch.Size([7680, 2003]) torch.Size([7680])\n",
      "torch.Size([7680, 2003]) torch.Size([7680])\n",
      "torch.Size([7680, 2003]) torch.Size([7680])\n",
      "torch.Size([7680, 2003]) torch.Size([7680])\n",
      "torch.Size([7680, 2003]) torch.Size([7680])\n",
      "torch.Size([7680, 2003]) torch.Size([7680])\n",
      "torch.Size([7680, 2003]) torch.Size([7680])\n",
      "torch.Size([7680, 2003]) torch.Size([7680])\n",
      "torch.Size([7680, 2003]) torch.Size([7680])\n",
      "epoch: 1    \tstep: 60    \tloss: 7.3475\n",
      "torch.Size([7680, 2003]) torch.Size([7680])\n"
     ]
    },
    {
     "ename": "KeyboardInterrupt",
     "evalue": "",
     "output_type": "error",
     "traceback": [
      "\u001b[0;31m---------------------------------------------------------------------------\u001b[0m",
      "\u001b[0;31mKeyboardInterrupt\u001b[0m                         Traceback (most recent call last)",
      "\u001b[0;32m<ipython-input-296-c68d1c2b3cae>\u001b[0m in \u001b[0;36m<module>\u001b[0;34m\u001b[0m\n\u001b[0;32m----> 1\u001b[0;31m \u001b[0mlearn\u001b[0m\u001b[0;34m.\u001b[0m\u001b[0mfit\u001b[0m\u001b[0;34m(\u001b[0m\u001b[0mtrain_loader\u001b[0m\u001b[0;34m,\u001b[0m \u001b[0;36m0.01\u001b[0m\u001b[0;34m,\u001b[0m \u001b[0;36m1\u001b[0m\u001b[0;34m,\u001b[0m \u001b[0mweight_decay\u001b[0m\u001b[0;34m=\u001b[0m\u001b[0;36m0\u001b[0m\u001b[0;34m,\u001b[0m \u001b[0mprint_steps\u001b[0m\u001b[0;34m=\u001b[0m\u001b[0;36m10\u001b[0m\u001b[0;34m)\u001b[0m\u001b[0;34m\u001b[0m\u001b[0;34m\u001b[0m\u001b[0m\n\u001b[0m",
      "\u001b[0;32m<ipython-input-294-90a90917a2c4>\u001b[0m in \u001b[0;36mfit\u001b[0;34m(self, dataloader, lr, epochs, weight_decay, print_steps)\u001b[0m\n\u001b[1;32m     28\u001b[0m                 \u001b[0mloss\u001b[0m \u001b[0;34m=\u001b[0m \u001b[0mloss_fn\u001b[0m\u001b[0;34m(\u001b[0m\u001b[0moutputs\u001b[0m\u001b[0;34m,\u001b[0m \u001b[0mY\u001b[0m\u001b[0;34m)\u001b[0m\u001b[0;34m\u001b[0m\u001b[0;34m\u001b[0m\u001b[0m\n\u001b[1;32m     29\u001b[0m                 \u001b[0moptimizer\u001b[0m\u001b[0;34m.\u001b[0m\u001b[0mzero_grad\u001b[0m\u001b[0;34m(\u001b[0m\u001b[0;34m)\u001b[0m\u001b[0;34m\u001b[0m\u001b[0;34m\u001b[0m\u001b[0m\n\u001b[0;32m---> 30\u001b[0;31m                 \u001b[0mloss\u001b[0m\u001b[0;34m.\u001b[0m\u001b[0mbackward\u001b[0m\u001b[0;34m(\u001b[0m\u001b[0;34m)\u001b[0m\u001b[0;34m\u001b[0m\u001b[0;34m\u001b[0m\u001b[0m\n\u001b[0m\u001b[1;32m     31\u001b[0m                 \u001b[0moptimizer\u001b[0m\u001b[0;34m.\u001b[0m\u001b[0mstep\u001b[0m\u001b[0;34m(\u001b[0m\u001b[0;34m)\u001b[0m\u001b[0;34m\u001b[0m\u001b[0;34m\u001b[0m\u001b[0m\n\u001b[1;32m     32\u001b[0m                 \u001b[0mscheduler\u001b[0m\u001b[0;34m.\u001b[0m\u001b[0mstep\u001b[0m\u001b[0;34m(\u001b[0m\u001b[0;34m)\u001b[0m\u001b[0;34m\u001b[0m\u001b[0;34m\u001b[0m\u001b[0m\n",
      "\u001b[0;32m~/.miniconda3/lib/python3.7/site-packages/torch/tensor.py\u001b[0m in \u001b[0;36mbackward\u001b[0;34m(self, gradient, retain_graph, create_graph)\u001b[0m\n\u001b[1;32m    148\u001b[0m                 \u001b[0mproducts\u001b[0m\u001b[0;34m.\u001b[0m \u001b[0mDefaults\u001b[0m \u001b[0mto\u001b[0m\u001b[0;31m \u001b[0m\u001b[0;31m`\u001b[0m\u001b[0;31m`\u001b[0m\u001b[0;32mFalse\u001b[0m\u001b[0;31m`\u001b[0m\u001b[0;31m`\u001b[0m\u001b[0;34m.\u001b[0m\u001b[0;34m\u001b[0m\u001b[0;34m\u001b[0m\u001b[0m\n\u001b[1;32m    149\u001b[0m         \"\"\"\n\u001b[0;32m--> 150\u001b[0;31m         \u001b[0mtorch\u001b[0m\u001b[0;34m.\u001b[0m\u001b[0mautograd\u001b[0m\u001b[0;34m.\u001b[0m\u001b[0mbackward\u001b[0m\u001b[0;34m(\u001b[0m\u001b[0mself\u001b[0m\u001b[0;34m,\u001b[0m \u001b[0mgradient\u001b[0m\u001b[0;34m,\u001b[0m \u001b[0mretain_graph\u001b[0m\u001b[0;34m,\u001b[0m \u001b[0mcreate_graph\u001b[0m\u001b[0;34m)\u001b[0m\u001b[0;34m\u001b[0m\u001b[0;34m\u001b[0m\u001b[0m\n\u001b[0m\u001b[1;32m    151\u001b[0m \u001b[0;34m\u001b[0m\u001b[0m\n\u001b[1;32m    152\u001b[0m     \u001b[0;32mdef\u001b[0m \u001b[0mregister_hook\u001b[0m\u001b[0;34m(\u001b[0m\u001b[0mself\u001b[0m\u001b[0;34m,\u001b[0m \u001b[0mhook\u001b[0m\u001b[0;34m)\u001b[0m\u001b[0;34m:\u001b[0m\u001b[0;34m\u001b[0m\u001b[0;34m\u001b[0m\u001b[0m\n",
      "\u001b[0;32m~/.miniconda3/lib/python3.7/site-packages/torch/autograd/__init__.py\u001b[0m in \u001b[0;36mbackward\u001b[0;34m(tensors, grad_tensors, retain_graph, create_graph, grad_variables)\u001b[0m\n\u001b[1;32m     97\u001b[0m     Variable._execution_engine.run_backward(\n\u001b[1;32m     98\u001b[0m         \u001b[0mtensors\u001b[0m\u001b[0;34m,\u001b[0m \u001b[0mgrad_tensors\u001b[0m\u001b[0;34m,\u001b[0m \u001b[0mretain_graph\u001b[0m\u001b[0;34m,\u001b[0m \u001b[0mcreate_graph\u001b[0m\u001b[0;34m,\u001b[0m\u001b[0;34m\u001b[0m\u001b[0;34m\u001b[0m\u001b[0m\n\u001b[0;32m---> 99\u001b[0;31m         allow_unreachable=True)  # allow_unreachable flag\n\u001b[0m\u001b[1;32m    100\u001b[0m \u001b[0;34m\u001b[0m\u001b[0m\n\u001b[1;32m    101\u001b[0m \u001b[0;34m\u001b[0m\u001b[0m\n",
      "\u001b[0;31mKeyboardInterrupt\u001b[0m: "
     ]
    }
   ],
   "source": [
    "learn.fit(train_loader, 0.01, 1, weight_decay=0, print_steps=10)"
   ]
  },
  {
   "cell_type": "code",
   "execution_count": 303,
   "metadata": {},
   "outputs": [
    {
     "data": {
      "text/plain": [
       "7.295762"
      ]
     },
     "execution_count": 303,
     "metadata": {},
     "output_type": "execute_result"
    }
   ],
   "source": [
    "learn.evaluate(test_loader)"
   ]
  },
  {
   "cell_type": "code",
   "execution_count": null,
   "metadata": {},
   "outputs": [],
   "source": []
  }
 ],
 "metadata": {
  "kernelspec": {
   "display_name": "Python 3",
   "language": "python",
   "name": "python3"
  },
  "language_info": {
   "codemirror_mode": {
    "name": "ipython",
    "version": 3
   },
   "file_extension": ".py",
   "mimetype": "text/x-python",
   "name": "python",
   "nbconvert_exporter": "python",
   "pygments_lexer": "ipython3",
   "version": "3.7.3"
  }
 },
 "nbformat": 4,
 "nbformat_minor": 2
}
